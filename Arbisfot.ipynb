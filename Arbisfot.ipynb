{
 "cells": [
  {
   "cell_type": "code",
   "execution_count": 2,
   "metadata": {},
   "outputs": [
    {
     "name": "stdout",
     "output_type": "stream",
     "text": [
      "Defaulting to user installation because normal site-packages is not writeable\n",
      "Collecting requests\n",
      "  Obtaining dependency information for requests from https://files.pythonhosted.org/packages/70/8e/0e2d847013cb52cd35b38c009bb167a1a26b2ce6cd6965bf26b47bc0bf44/requests-2.31.0-py3-none-any.whl.metadata\n",
      "  Downloading requests-2.31.0-py3-none-any.whl.metadata (4.6 kB)\n",
      "Collecting charset-normalizer<4,>=2 (from requests)\n",
      "  Obtaining dependency information for charset-normalizer<4,>=2 from https://files.pythonhosted.org/packages/b6/7c/8debebb4f90174074b827c63242c23851bdf00a532489fba57fef3416e40/charset_normalizer-3.3.2-cp312-cp312-win_amd64.whl.metadata\n",
      "  Downloading charset_normalizer-3.3.2-cp312-cp312-win_amd64.whl.metadata (34 kB)\n",
      "Collecting idna<4,>=2.5 (from requests)\n",
      "  Obtaining dependency information for idna<4,>=2.5 from https://files.pythonhosted.org/packages/c2/e7/a82b05cf63a603df6e68d59ae6a68bf5064484a0718ea5033660af4b54a9/idna-3.6-py3-none-any.whl.metadata\n",
      "  Downloading idna-3.6-py3-none-any.whl.metadata (9.9 kB)\n",
      "Collecting urllib3<3,>=1.21.1 (from requests)\n",
      "  Obtaining dependency information for urllib3<3,>=1.21.1 from https://files.pythonhosted.org/packages/96/94/c31f58c7a7f470d5665935262ebd7455c7e4c7782eb525658d3dbf4b9403/urllib3-2.1.0-py3-none-any.whl.metadata\n",
      "  Downloading urllib3-2.1.0-py3-none-any.whl.metadata (6.4 kB)\n",
      "Collecting certifi>=2017.4.17 (from requests)\n",
      "  Obtaining dependency information for certifi>=2017.4.17 from https://files.pythonhosted.org/packages/64/62/428ef076be88fa93716b576e4a01f919d25968913e817077a386fcbe4f42/certifi-2023.11.17-py3-none-any.whl.metadata\n",
      "  Downloading certifi-2023.11.17-py3-none-any.whl.metadata (2.2 kB)\n",
      "Downloading requests-2.31.0-py3-none-any.whl (62 kB)\n",
      "   ---------------------------------------- 0.0/62.6 kB ? eta -:--:--\n",
      "   ------------------- -------------------- 30.7/62.6 kB 1.4 MB/s eta 0:00:01\n",
      "   ---------------------------------------  61.4/62.6 kB 656.4 kB/s eta 0:00:01\n",
      "   ---------------------------------------- 62.6/62.6 kB 556.7 kB/s eta 0:00:00\n",
      "Downloading certifi-2023.11.17-py3-none-any.whl (162 kB)\n",
      "   ---------------------------------------- 0.0/162.5 kB ? eta -:--:--\n",
      "   --------------------------- ------------ 112.6/162.5 kB ? eta -:--:--\n",
      "   --------------------------- ------------ 112.6/162.5 kB ? eta -:--:--\n",
      "   --------------------------- ------------ 112.6/162.5 kB ? eta -:--:--\n",
      "   ----------------------------------- -- 153.6/162.5 kB 762.6 kB/s eta 0:00:01\n",
      "   -------------------------------------- 162.5/162.5 kB 750.2 kB/s eta 0:00:00\n",
      "Downloading charset_normalizer-3.3.2-cp312-cp312-win_amd64.whl (100 kB)\n",
      "   ---------------------------------------- 0.0/100.4 kB ? eta -:--:--\n",
      "   ---------------------------------------- 100.4/100.4 kB 6.0 MB/s eta 0:00:00\n",
      "Downloading idna-3.6-py3-none-any.whl (61 kB)\n",
      "   ---------------------------------------- 0.0/61.6 kB ? eta -:--:--\n",
      "   ---------------------------------------- 61.6/61.6 kB 1.7 MB/s eta 0:00:00\n",
      "Downloading urllib3-2.1.0-py3-none-any.whl (104 kB)\n",
      "   ---------------------------------------- 0.0/104.6 kB ? eta -:--:--\n",
      "   ---------------------------------------- 104.6/104.6 kB 3.0 MB/s eta 0:00:00\n",
      "Installing collected packages: urllib3, idna, charset-normalizer, certifi, requests\n",
      "Successfully installed certifi-2023.11.17 charset-normalizer-3.3.2 idna-3.6 requests-2.31.0 urllib3-2.1.0\n",
      "Note: you may need to restart the kernel to use updated packages.\n"
     ]
    },
    {
     "name": "stderr",
     "output_type": "stream",
     "text": [
      "\n",
      "[notice] A new release of pip is available: 23.2.1 -> 23.3.2\n",
      "[notice] To update, run: C:\\Users\\saham\\AppData\\Local\\Microsoft\\WindowsApps\\PythonSoftwareFoundation.Python.3.12_qbz5n2kfra8p0\\python.exe -m pip install --upgrade pip\n"
     ]
    }
   ],
   "source": [
    "%pip install requests"
   ]
  },
  {
   "cell_type": "code",
   "execution_count": 14,
   "metadata": {},
   "outputs": [
    {
     "name": "stdout",
     "output_type": "stream",
     "text": [
      "10011\n"
     ]
    }
   ],
   "source": [
    "import requests\n",
    "import sys\n",
    "\n",
    "\n",
    "# get all rides of the driver_id\n",
    "def get_driver_rides(rides, driver_id):\n",
    "    return [ride for ride in rides if ride['driver_id'] == int(driver_id)]\n",
    "\n",
    "\n",
    "# get all driver payments of the driver_id\n",
    "def get_driver_payments_sum(driver_id):\n",
    "    payments_data = [\n",
    "        int(payment['amount'])\n",
    "        for payment in payments\n",
    "        if payment['driver_id'] == int(driver_id)\n",
    "    ]\n",
    "    return sum(payments_data)\n",
    "\n",
    "\n",
    "def calculate_commission(ride, joining_date):\n",
    "    ride_date = ride['trip_date']\n",
    "    ride_date = ride_date.split('/')\n",
    "    month = int(ride_date[0])\n",
    "    if month == int(joining_date[0]) + 1:  # 10%\n",
    "        return 0.10 * ride['trip_details']['fare']\n",
    "    elif month > int(joining_date[0]) + 1:  # 20%\n",
    "        return 0.20 * ride['trip_details']['fare']\n",
    "    return 0\n",
    "\n",
    "\n",
    "def get_commission(total_rides, joining_date):\n",
    "    return sum(calculate_commission(ride, joining_date) for ride in total_rides)\n",
    "\n",
    "\n",
    "def calculate_payback(total_rides, number_of_testcases, joining_date):\n",
    "    for test_case in range(number_of_testcases):\n",
    "        rides = get_driver_rides(total_rides, driver_ids[test_case])\n",
    "        commission = get_commission(rides, joining_date[test_case])\n",
    "        driver_payment = get_driver_payments_sum(driver_ids[test_case])\n",
    "        payback = driver_payment - commission\n",
    "        print(round(payback, 1))\n",
    "\n",
    "\n",
    "\n",
    "# The API requests for rides and payments remain the same\n",
    "rides = requests.get(\"https://www.jsonkeeper.com/b/DM5F\").json()\n",
    "payments = requests.get(\"https://www.jsonkeeper.com/b/9QRZ\").json()\n",
    "\n",
    "# Manually define the example data\n",
    "numberOfTestCases = 2  # Assuming there are two test cases\n",
    "driver_ids = ['10005', '10002']\n",
    "joining_date = [['3', '15', '2022'], ['4', '20', '2022']]  # [month, day , year]\n",
    "print(rides[20]['driver_id'])\n",
    "\n",
    "# Call the function with the example data\n",
    "# calculate_payback(rides, numberOfTestCases, joining_date)\n"
   ]
  }
 ],
 "metadata": {
  "kernelspec": {
   "display_name": "Python 3",
   "language": "python",
   "name": "python3"
  },
  "language_info": {
   "codemirror_mode": {
    "name": "ipython",
    "version": 3
   },
   "file_extension": ".py",
   "mimetype": "text/x-python",
   "name": "python",
   "nbconvert_exporter": "python",
   "pygments_lexer": "ipython3",
   "version": "3.12.1"
  }
 },
 "nbformat": 4,
 "nbformat_minor": 2
}
